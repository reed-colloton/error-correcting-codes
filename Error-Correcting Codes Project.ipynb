{
 "cells": [
  {
   "cell_type": "markdown",
   "metadata": {},
   "source": [
    "# CSCI 2820 - LINEAR ALGEBRA - SPRING 2025"
   ]
  },
  {
   "cell_type": "markdown",
   "metadata": {},
   "source": [
    "Make sure you fill in any place that says `CODE SOLUTION HERE` or \"CODE SOLUTION HERE\", as well as your NAMES below:"
   ]
  },
  {
   "cell_type": "code",
   "execution_count": 105,
   "metadata": {},
   "outputs": [],
   "source": [
    "NAMES = \"Sania, Matthew, Alex, Reed\"\n"
   ]
  },
  {
   "cell_type": "markdown",
   "metadata": {},
   "source": [
    "# FINAL PROJECT (Option 3):  Error-Correcting Codes"
   ]
  },
  {
   "cell_type": "code",
   "execution_count": 106,
   "metadata": {},
   "outputs": [],
   "source": [
    "## This is a Jupyter notebook for the CU Linear Algebra Final Project.\n",
    "## Professor Divya E. Vernerey and Robby Green\n",
    "## Spring 2025"
   ]
  },
  {
   "cell_type": "code",
   "execution_count": 107,
   "metadata": {},
   "outputs": [],
   "source": [
    "import galois\n",
    "import pyfinite as pf\n",
    "import numpy as np\n",
    "import random"
   ]
  },
  {
   "attachments": {},
   "cell_type": "markdown",
   "metadata": {},
   "source": [
    "# Final Project: Error-Correcting Codes\n",
    "\n",
    "Over the course of this project, we will explore the world of finite fields and how they are constructed. Fields are a specific type of algebraic structure, and they form a grounding for linear algebra because they determine the ways we can scale our vectors, and they make up the entries of the vectors themselves. Usually the field we use for linear algebra is the field of real numbers $\\mathbb{R}$. However, there are many important applications of linear algebra in which our field of scalars is finite, rather than infinite. One of those applications is in error-correcting codes. \n"
   ]
  },
  {
   "attachments": {},
   "cell_type": "markdown",
   "metadata": {},
   "source": [
    "## Fields\n",
    "\n",
    "\n",
    "A field is a system of arithmetic with two operations, addition and multiplication, satisfying the following rules: \n",
    "1. Addition and multiplication are both commutative: $a+b = b+a$ and $a \\times b = b \\times a$\n",
    "2. There is a special element called $0$ such that $0 + a = a + 0 = a$ for all $a$\n",
    "3. There is a special element called $1$ such that $1 \\times a = a \\times 1 = a$ for all $a$\n",
    "4. Addition is invertible (i.e. subtraction is well-defined). For all $a$, there exists $-a$ such that $a + (-a) = 0$\n",
    "5. Multiplication is invertible (i.e. division is well-defined). For all $a$ except for $a=0$, there exists $a^{-1}$ such that $a \\times a^{-1} = 1$\n",
    "6. Multiplication distributes over addition: $a \\times (b+c) = (a \\times b) + (a \\times c)$\n",
    "\n",
    "Usually the multiplication sign is dropped and we write \"$ab$\" instead of $a \\times b$\n",
    "\n",
    "\n",
    "Some examples of fields you might know are the real numbers $\\mathbb{R}$ and the complex numbers $\\mathbb{C}$. \n",
    "\n",
    "Some examples of systems of arithmetic which are not fields are the integers $\\mathbb{Z}$ and the natural numbers $\\mathbb{N}$. The integers fail to have well-defined division, and the natural numbers fail to have both division and subtraction. "
   ]
  },
  {
   "attachments": {},
   "cell_type": "markdown",
   "metadata": {},
   "source": [
    "## The Binary Field"
   ]
  },
  {
   "attachments": {},
   "cell_type": "markdown",
   "metadata": {},
   "source": [
    "Every vector space requires an underlying field of scalars, which are used as entries of vectors and to scale vectors. Up until now, the field of scalars has typically been $\\mathbb{R}$, and occasionally we venture into the world of complex numbers $\\mathbb{C}$. Many engineers or applied mathematicians do not go further than these two fields. But there's another field that's very important to computer scientists, and that's the binary field $\\mathbb{B} = \\{0,1\\}$. \n",
    "\n",
    "The binary field has only two elements in it: 0 and 1. For the most part, arithmetic works the same way it does in $\\mathbb{R}$. Just like in $\\mathbb{R}$, we have \n",
    "- $0 \\times 0 = 0$\n",
    "- $0 \\times 1 = 0$\n",
    "- $1 \\times 0 = 0$\n",
    "- $1 \\times 1 = 1$\n",
    "- $0 \\oplus 0 = 0$\n",
    "- $0 \\oplus 1 = 1$\n",
    "- $1 \\oplus 0 = 1$\n",
    "\n",
    "However, unlike in $\\mathbb{R}$, we have $1 \\oplus 1 = 0$ in $\\mathbb{B}$. If we interpret $1$ as \"true\" and $0$ as \"false\", then addition in $\\mathbb{B}$ is the logical XOR operation, and multiplication is the logical AND operation. You should verify for yourself that $\\mathbb{B}$ satisfies all of the conditions required to be a field.\n"
   ]
  },
  {
   "cell_type": "markdown",
   "metadata": {},
   "source": [
    "### Sanity Check\n"
   ]
  },
  {
   "cell_type": "markdown",
   "metadata": {},
   "source": [
    "As long as your set of scalars satisfy the rules of a field, you can still do everything you've learned to do -- you just have to adjust your rules of arithmetic to fit $\\mathbb{B}$ instead of using the arithmetic of $\\mathbb{R}$. You can do row reduction, diagonalization, and everything else you've learned to do in this class. Feel free to use the boxes below to experiment with this. "
   ]
  },
  {
   "cell_type": "code",
   "execution_count": null,
   "metadata": {},
   "outputs": [],
   "source": []
  },
  {
   "cell_type": "markdown",
   "metadata": {},
   "source": [
    "## Other Finite Fields\n",
    "To do arithmetic in finite fields, we import a special package, `galois`. Galois was the name of the mathematician who discovered and studied finite fields. The binary field $\\mathbb{B}$ is also known as $\\mathbb{GF}(2)$. It turns out that for every prime number $p$, there is a finite field $\\mathbb{GF}(p)$, wherein the arithmetic is done modulo $p$. We demonstrate below how to instantiate and multiply matrices whose entries are elements of $\\mathbb{GF}(p)$. Our particular example is in $\\mathbb{GF}(31)$, and so all matrix arithmetic is done modulo 31."
   ]
  },
  {
   "cell_type": "code",
   "execution_count": 108,
   "metadata": {},
   "outputs": [
    {
     "data": {
      "text/plain": [
       "GF([[17, 25, 18,  8],\n",
       "    [ 7,  9, 21, 15],\n",
       "    [ 6, 16,  6, 30]], order=31)"
      ]
     },
     "execution_count": 108,
     "metadata": {},
     "output_type": "execute_result"
    }
   ],
   "source": [
    "## this code instantiates a matrix A whose entries are interpreted as elements of GF(31).\n",
    "GF31 = galois.GF(31)\n",
    "A = GF31([[17, 25, 18, 8], [7, 9, 21, 15], [6, 16, 6, 30]]);\n",
    "A"
   ]
  },
  {
   "cell_type": "code",
   "execution_count": 109,
   "metadata": {},
   "outputs": [
    {
     "data": {
      "text/plain": [
       "GF([[ 8, 18],\n",
       "    [22,  0],\n",
       "    [ 7,  8],\n",
       "    [20, 24]], order=31)"
      ]
     },
     "execution_count": 109,
     "metadata": {},
     "output_type": "execute_result"
    }
   ],
   "source": [
    "# we can also instantiate a matrix B:\n",
    "B = GF31([[8, 18], [22, 0], [7, 8], [20, 24]]);\n",
    "B"
   ]
  },
  {
   "cell_type": "code",
   "execution_count": 110,
   "metadata": {},
   "outputs": [
    {
     "data": {
      "text/plain": [
       "GF([[11, 22],\n",
       "    [19,  3],\n",
       "    [19,  8]], order=31)"
      ]
     },
     "execution_count": 110,
     "metadata": {},
     "output_type": "execute_result"
    }
   ],
   "source": [
    "# we can multiply matrices using the @ symbol\n",
    "A@B"
   ]
  },
  {
   "cell_type": "markdown",
   "metadata": {},
   "source": []
  },
  {
   "cell_type": "markdown",
   "metadata": {},
   "source": [
    "# Error-Correcting Codes\n",
    "\n",
    "Recall that a code $C$ is a subspace of $\\mathbb{F}^n$, where $\\mathbb{F}$ is some field of scalars. A binary code is a subspace of $\\mathbb{B}^n$. A good code is a code whose codewords are far from each other in terms of edit distance. "
   ]
  },
  {
   "cell_type": "markdown",
   "metadata": {},
   "source": [
    "## Hamming Codes\n",
    "\n",
    "We are going to implement a Hamming code, as well as an encoder and a decoder for it. The encoder is going to be a generator matrix $G$, and the decoder is going to be a parity check matrix $H$. The particular Hamming code we are going to implement is the [15,11] Hamming code -- whose codewords are length 15 and whose datawords are length 11. \n",
    "\n",
    "To start, we are going to select a random dataword message $\\textbf{m} = m_1 m_2 ... m_{11}$, apply the generator matrix to it, and end up with a random codeword $\\textbf{c}$. That is, $G\\textbf{m} = \\textbf{c}$.  "
   ]
  },
  {
   "cell_type": "code",
   "execution_count": 129,
   "metadata": {},
   "outputs": [
    {
     "ename": "ValueError",
     "evalue": "matmul: Input operand 1 has a mismatch in its core dimension 0, with gufunc signature (n?,k),(k,m?)->(n?,m?) (size 11 is different from 15)",
     "output_type": "error",
     "traceback": [
      "\u001b[0;31m---------------------------------------------------------------------------\u001b[0m",
      "\u001b[0;31mValueError\u001b[0m                                Traceback (most recent call last)",
      "Cell \u001b[0;32mIn[129], line 21\u001b[0m\n\u001b[1;32m     19\u001b[0m m \u001b[38;5;241m=\u001b[39m np\u001b[38;5;241m.\u001b[39mrandom\u001b[38;5;241m.\u001b[39mchoice([\u001b[38;5;241m0\u001b[39m, \u001b[38;5;241m1\u001b[39m], size\u001b[38;5;241m=\u001b[39m(\u001b[38;5;241m11\u001b[39m, \u001b[38;5;241m1\u001b[39m))\n\u001b[1;32m     20\u001b[0m m \u001b[38;5;241m=\u001b[39m GF2(m)\n\u001b[0;32m---> 21\u001b[0m c \u001b[38;5;241m=\u001b[39m G\u001b[38;5;129m@m\u001b[39m\n\u001b[1;32m     22\u001b[0m c\n",
      "File \u001b[0;32m/opt/anaconda3/lib/python3.12/site-packages/galois/_domains/_array.py:524\u001b[0m, in \u001b[0;36mArray.__matmul__\u001b[0;34m(self, other)\u001b[0m\n\u001b[1;32m    523\u001b[0m \u001b[38;5;28;01mdef\u001b[39;00m \u001b[38;5;21m__matmul__\u001b[39m(\u001b[38;5;28mself\u001b[39m, other: npt\u001b[38;5;241m.\u001b[39mNDArray) \u001b[38;5;241m-\u001b[39m\u001b[38;5;241m>\u001b[39m Self:\n\u001b[0;32m--> 524\u001b[0m     \u001b[38;5;28;01mreturn\u001b[39;00m \u001b[38;5;28msuper\u001b[39m()\u001b[38;5;241m.\u001b[39m\u001b[38;5;21m__matmul__\u001b[39m(other)\n",
      "File \u001b[0;32m/opt/anaconda3/lib/python3.12/site-packages/galois/_domains/_ufunc.py:689\u001b[0m, in \u001b[0;36mUFuncMixin.__array_ufunc__\u001b[0;34m(self, ufunc, method, *inputs, **kwargs)\u001b[0m\n\u001b[1;32m    686\u001b[0m     \u001b[38;5;28;01mif\u001b[39;00m method \u001b[38;5;129;01min\u001b[39;00m [\u001b[38;5;124m\"\u001b[39m\u001b[38;5;124mreduce\u001b[39m\u001b[38;5;124m\"\u001b[39m]:\n\u001b[1;32m    687\u001b[0m         kwargs[\u001b[38;5;124m\"\u001b[39m\u001b[38;5;124mdtype\u001b[39m\u001b[38;5;124m\"\u001b[39m] \u001b[38;5;241m=\u001b[39m field\u001b[38;5;241m.\u001b[39mdtypes[\u001b[38;5;241m-\u001b[39m\u001b[38;5;241m1\u001b[39m]\n\u001b[0;32m--> 689\u001b[0m     \u001b[38;5;28;01mreturn\u001b[39;00m \u001b[38;5;28mgetattr\u001b[39m(field, field\u001b[38;5;241m.\u001b[39m_OVERRIDDEN_UFUNCS[ufunc])(ufunc, method, inputs, kwargs, meta)\n\u001b[1;32m    691\u001b[0m \u001b[38;5;28;01mif\u001b[39;00m ufunc \u001b[38;5;129;01min\u001b[39;00m field\u001b[38;5;241m.\u001b[39m_UNSUPPORTED_UFUNCS:\n\u001b[1;32m    692\u001b[0m     \u001b[38;5;28;01mraise\u001b[39;00m \u001b[38;5;167;01mNotImplementedError\u001b[39;00m(\n\u001b[1;32m    693\u001b[0m         \u001b[38;5;124mf\u001b[39m\u001b[38;5;124m\"\u001b[39m\u001b[38;5;124mThe NumPy ufunc \u001b[39m\u001b[38;5;132;01m{\u001b[39;00mufunc\u001b[38;5;241m.\u001b[39m\u001b[38;5;18m__name__\u001b[39m\u001b[38;5;132;01m!r}\u001b[39;00m\u001b[38;5;124m is not supported on \u001b[39m\u001b[38;5;132;01m{\u001b[39;00mfield\u001b[38;5;241m.\u001b[39mname\u001b[38;5;132;01m}\u001b[39;00m\u001b[38;5;124m arrays. \u001b[39m\u001b[38;5;124m\"\u001b[39m\n\u001b[1;32m    694\u001b[0m         \u001b[38;5;124m\"\u001b[39m\u001b[38;5;124mIf you believe this ufunc should be supported, \u001b[39m\u001b[38;5;124m\"\u001b[39m\n\u001b[1;32m    695\u001b[0m         \u001b[38;5;124m\"\u001b[39m\u001b[38;5;124mplease submit a GitHub issue at https://github.com/mhostetter/galois/issues.\u001b[39m\u001b[38;5;124m\"\u001b[39m\n\u001b[1;32m    696\u001b[0m     )\n",
      "File \u001b[0;32m/opt/anaconda3/lib/python3.12/site-packages/galois/_domains/_ufunc.py:555\u001b[0m, in \u001b[0;36mmatmul_ufunc.__call__\u001b[0;34m(self, ufunc, method, inputs, kwargs, meta)\u001b[0m\n\u001b[1;32m    553\u001b[0m \u001b[38;5;28;01mdef\u001b[39;00m \u001b[38;5;21m__call__\u001b[39m(\u001b[38;5;28mself\u001b[39m, ufunc, method, inputs, kwargs, meta):\n\u001b[1;32m    554\u001b[0m     \u001b[38;5;28mself\u001b[39m\u001b[38;5;241m.\u001b[39m_verify_method_only_call(ufunc, method)\n\u001b[0;32m--> 555\u001b[0m     \u001b[38;5;28;01mreturn\u001b[39;00m matmul_jit(\u001b[38;5;28mself\u001b[39m\u001b[38;5;241m.\u001b[39mfield)(\u001b[38;5;241m*\u001b[39minputs, \u001b[38;5;241m*\u001b[39m\u001b[38;5;241m*\u001b[39mkwargs)\n",
      "File \u001b[0;32m/opt/anaconda3/lib/python3.12/site-packages/galois/_domains/_linalg.py:199\u001b[0m, in \u001b[0;36mmatmul_jit.__call__\u001b[0;34m(self, A, B, out, **kwargs)\u001b[0m\n\u001b[1;32m    196\u001b[0m dtype \u001b[38;5;241m=\u001b[39m A\u001b[38;5;241m.\u001b[39mdtype\n\u001b[1;32m    198\u001b[0m \u001b[38;5;28;01mif\u001b[39;00m \u001b[38;5;28mself\u001b[39m\u001b[38;5;241m.\u001b[39mfield\u001b[38;5;241m.\u001b[39m_is_prime_field:\n\u001b[0;32m--> 199\u001b[0m     \u001b[38;5;28;01mreturn\u001b[39;00m _lapack_linalg(\u001b[38;5;28mself\u001b[39m\u001b[38;5;241m.\u001b[39mfield, A, B, np\u001b[38;5;241m.\u001b[39mmatmul, out\u001b[38;5;241m=\u001b[39mout)\n\u001b[1;32m    201\u001b[0m prepend, append \u001b[38;5;241m=\u001b[39m \u001b[38;5;28;01mFalse\u001b[39;00m, \u001b[38;5;28;01mFalse\u001b[39;00m\n\u001b[1;32m    202\u001b[0m \u001b[38;5;28;01mif\u001b[39;00m A\u001b[38;5;241m.\u001b[39mndim \u001b[38;5;241m==\u001b[39m \u001b[38;5;241m1\u001b[39m:\n",
      "File \u001b[0;32m/opt/anaconda3/lib/python3.12/site-packages/galois/_domains/_linalg.py:60\u001b[0m, in \u001b[0;36m_lapack_linalg\u001b[0;34m(field, a, b, function, out, n_sum)\u001b[0m\n\u001b[1;32m     58\u001b[0m     c \u001b[38;5;241m=\u001b[39m function(a, b)\n\u001b[1;32m     59\u001b[0m \u001b[38;5;28;01melse\u001b[39;00m:\n\u001b[0;32m---> 60\u001b[0m     c \u001b[38;5;241m=\u001b[39m function(a, b, out\u001b[38;5;241m=\u001b[39mout)\n\u001b[1;32m     61\u001b[0m c \u001b[38;5;241m=\u001b[39m c \u001b[38;5;241m%\u001b[39m field\u001b[38;5;241m.\u001b[39mcharacteristic  \u001b[38;5;66;03m# Reduce the result mod p\u001b[39;00m\n\u001b[1;32m     63\u001b[0m \u001b[38;5;28;01mif\u001b[39;00m np\u001b[38;5;241m.\u001b[39misscalar(c):\n\u001b[1;32m     64\u001b[0m     \u001b[38;5;66;03m# TODO: Sometimes the scalar c is a float?\u001b[39;00m\n",
      "\u001b[0;31mValueError\u001b[0m: matmul: Input operand 1 has a mismatch in its core dimension 0, with gufunc signature (n?,k),(k,m?)->(n?,m?) (size 11 is different from 15)"
     ]
    }
   ],
   "source": [
    "## Code your solution here. You can use the function np.random.choice or another random function if you prefer. Remember, you need to define and use the GF2() function to make sure your random vector is interpreted as a binary vector and not a real vector. This problem will be easier if you choose G to be a systematic encoding matrix.\n",
    "\n",
    "GF2 = galois.GF(2)\n",
    "I = np.eye(11, dtype=int)\n",
    "p = np.array([[0, 0, 1, 1],\n",
    "        [0, 1, 0, 1],\n",
    "        [0, 1, 1, 0],\n",
    "        [0, 1, 1, 1],\n",
    "        [1, 0, 0, 1],\n",
    "        [1, 0, 1, 0],\n",
    "        [1, 0, 1, 1],\n",
    "        [1, 1, 0, 0],\n",
    "        [1, 1, 0, 1],\n",
    "        [1, 1, 1, 0],\n",
    "        [1, 1, 1, 1]\n",
    "])\n",
    "G = np.concatenate((I, p), axis=1, dtype=int)\n",
    "G = GF2(G)\n",
    "m = np.random.choice([0, 1], size=(11, 1))\n",
    "m = GF2(m)\n",
    "c = G@m\n",
    "c"
   ]
  },
  {
   "cell_type": "markdown",
   "metadata": {},
   "source": [
    "Now that we have a random codeword $\\textbf{c}$, we are going to scramble a random bit of $\\textbf{c}$ to get a new string $\\textbf{y}$. "
   ]
  },
  {
   "cell_type": "code",
   "execution_count": 112,
   "metadata": {},
   "outputs": [
    {
     "data": {
      "text/plain": [
       "GF([[1],\n",
       "    [0],\n",
       "    [1],\n",
       "    [0],\n",
       "    [0],\n",
       "    [1],\n",
       "    [1],\n",
       "    [0],\n",
       "    [0],\n",
       "    [0],\n",
       "    [1],\n",
       "    [1],\n",
       "    [0],\n",
       "    [1],\n",
       "    [1]], order=2)"
      ]
     },
     "execution_count": 112,
     "metadata": {},
     "output_type": "execute_result"
    }
   ],
   "source": [
    "## Code your solution here.\n",
    "i = random.randint(0, 15)\n",
    "y = c.copy()\n",
    "if y[i] == 0:\n",
    "    y[i] = 1\n",
    "else:\n",
    "    y[i] = 0\n",
    "y"
   ]
  },
  {
   "cell_type": "markdown",
   "metadata": {},
   "source": [
    "Now that we have a scrambled message $\\textbf{y}$, we are going to decode it. We need to decode our message using the parity-check matrix. Remember, the result of applying H to a scrambled message will give you the bit-encoding of the index of the string where the error is... so it may be useful to come up with a helper function which translates a bit-string into a number."
   ]
  },
  {
   "cell_type": "code",
   "execution_count": 113,
   "metadata": {},
   "outputs": [],
   "source": [
    "## Code your solution here. Make sure to check that your decoded message is equal to the original random dataword."
   ]
  },
  {
   "cell_type": "markdown",
   "metadata": {},
   "source": [
    "Now, generate a random 15-bit string and try to decode it. Is it possible that this message cannot be decoded? Why or why not? Explain in geometric terms."
   ]
  },
  {
   "cell_type": "code",
   "execution_count": 114,
   "metadata": {},
   "outputs": [],
   "source": [
    "## Code your solution here."
   ]
  },
  {
   "cell_type": "markdown",
   "metadata": {},
   "source": [
    "(your answer here)"
   ]
  },
  {
   "cell_type": "markdown",
   "metadata": {},
   "source": [
    "## Reed-Solomon Codes\n",
    "\n",
    "Instead of using the binary field, we will use a prime field $\\mathbb{GF}(p)$ here (where arithmetic is done modulo $p$).\n",
    "\n",
    "Reed-Solomon codes are a coding system in which we interpret the message we wish to send as the coefficients of a polynomial. That is, suppose we have a dataword that we want to send $\\textbf{m} = m_0 m_1 m_2 ... m_k$. We will interpret the dataword as the coefficients of the polynomial $$m(x) = m_0 + m_1 x + m_2 x^2 + ... + m_k x^k$$\n",
    "and then we will evaluate the polynomial on all of the points of a finite field $\\mathbb{GF}(p) = \\mathbb{Z}/p$. The encoded message  that gets sent (i.e. the codeword) is going to be the concatenation of the results of applying $m(x)$ to every single $x \\in \\mathbb{GF}(p)$: $$\\textbf{c} = m(0)\\hspace{3pt} m(1)\\hspace{3pt} m(2)\\hspace{3pt} ...\\hspace{3pt} m(p-1) $$"
   ]
  },
  {
   "cell_type": "markdown",
   "metadata": {},
   "source": [
    "In order for this to be a useful code, we need $p > k$. Why is that? "
   ]
  },
  {
   "cell_type": "markdown",
   "metadata": {},
   "source": [
    "(your answer here)"
   ]
  },
  {
   "cell_type": "markdown",
   "metadata": {},
   "source": [
    "### Warm up: naive method\n",
    "As a warm up, imagine that we receive a message with no errors. That is, we receive a codeword of the form $\\textbf{c} = m(0)\\hspace{3pt} m(1)\\hspace{3pt} m(2)\\hspace{3pt} ...\\hspace{3pt} m(p-1) $. How do we decode this message to recover the initial dataword $\\textbf{m}$?  "
   ]
  },
  {
   "cell_type": "markdown",
   "metadata": {},
   "source": [
    "(your answer here)"
   ]
  },
  {
   "cell_type": "markdown",
   "metadata": {},
   "source": [
    "However, since the string that we received might have errors in it, we cannot trust this naive method. But fear not! We can still set up a linear system which will allow us to detect which of the letters in the codeword have been corrupted. Suppose we receive a (possibly corrupted) string $\\textbf{y} = y_0y_1 y_2 ... y_{p-1}$. We have a linear system of equations $$y_i =  m(i)$$ for $0 \\leq i \\leq p-1$. Because there might be an error, some of these equations may not hold. We will introduce an \"error-locator polynomial\" $e(x)$ with unknown coefficients to fix our system, so that we have $$y_i \\cdot e(i) = m(i) \\cdot e(i)$$\n",
    "The error detecting polynomial will be 0 whenever there is an error in the codeword. In other words, whenever an equation from the naive method did not hold, we will multiply both sides by zero to make it hold. <span style=\"color:red\">Since there are at most </span> $d$ <span style=\"color:red\"> errors in </span> $\\textbf{y}$, $e(x)$ <span style=\"color:red\"> will have degree at most </span> $d$. This is a nice fix, but unfortunately it makes our system of equations quadratic instead of linear. To remedy this, let $z(x) = m(x) \\cdot e(x)$. We can then solve an equivalent system of linear equations $$y_i \\cdot e(i) = z(i) $$ where the unknowns in this system are the coefficients of $e(x)$ and $z(x)$. \n",
    "\n",
    "Once we have solved for the coefficients of $e(x)$ and $z(x)$, we can use polynomial long division to calculate $$m(x) = \\frac{z(x)}{e(x)}$$\n",
    "and from there, the naive method for decoding should carry us across the finish line.\n",
    "\n",
    "IMPORTANT NOTE: We want to enforce that $e(x)$ is not the zero polynomial, otherwise our system of equations is trivially true always. In order to do this, we'll add $$e_d = 1$$ into our final system of linear equations.\n",
    "\n",
    "$e_d$ is the coefficient of $x^d$ in $e(x)$: \n",
    "$$e(x) = e_0 + e_1 x + e_2x^2 + ... + e_d x^d$$\n"
   ]
  },
  {
   "cell_type": "markdown",
   "metadata": {},
   "source": []
  },
  {
   "cell_type": "markdown",
   "metadata": {},
   "source": [
    "\"<span style=\"color:red\">Since there are at most </span> $d$ <span style=\"color:red\"> errors in </span> $\\textbf{y}$, $e(x)$ <span style=\"color:red\"> will have degree at most </span> $d$.\"\n",
    "\n",
    "Explain why this statement is true. Utilize the fundamental theorem of algebra and/or the idea of polynomial interpolation."
   ]
  },
  {
   "cell_type": "markdown",
   "metadata": {},
   "source": [
    "(your answer here)"
   ]
  },
  {
   "cell_type": "markdown",
   "metadata": {},
   "source": [
    "By making use of the rank-nullity theorem, what is the distance of a Reed-Solomon code whose codeword length is $n$ and whose dataword length is $k$? "
   ]
  },
  {
   "cell_type": "markdown",
   "metadata": {},
   "source": [
    "(your answer here)"
   ]
  },
  {
   "cell_type": "markdown",
   "metadata": {},
   "source": [
    "To have you implement this Reed-Solomon code, we will use a dataword length of $5$ and a prime field $\\mathbb{GF}(13) = \\mathbb{Z}/13$. Start by generating a random message $m = m_0 m_1 m_2 m_3 m_4$. Encode the message and randomly corrupt 4 of its letters. "
   ]
  },
  {
   "cell_type": "code",
   "execution_count": 115,
   "metadata": {},
   "outputs": [],
   "source": [
    "## Code your solution here. Remember, you will need to define and use the function GF13() to ensure that your random vectors are interpreted as prime field vectors and not real vectors."
   ]
  },
  {
   "cell_type": "markdown",
   "metadata": {},
   "source": [
    "Now that we have a corrupted message $\\textbf{y}$, use its coordinates to set up and solve the linear system $$y_i \\cdot e(i) = z(i)$$ and add in the additional constraint $e_d = 1$. Use your favorite linear system solver. What is $d$? \n",
    "\n"
   ]
  },
  {
   "cell_type": "code",
   "execution_count": 116,
   "metadata": {},
   "outputs": [],
   "source": [
    "## Code your solution here."
   ]
  },
  {
   "cell_type": "markdown",
   "metadata": {},
   "source": [
    "Once you have solved this linear system, you will have a string of coefficients $z_0 z_1 ... z_{p+d-1}$. Use polynomial long division to calculate $m(x)$. I recommend using `numpy.polydiv()` to do polynomial long division."
   ]
  },
  {
   "cell_type": "code",
   "execution_count": 117,
   "metadata": {},
   "outputs": [],
   "source": [
    "## Code your solution here."
   ]
  },
  {
   "cell_type": "markdown",
   "metadata": {},
   "source": [
    "Now that you've calculated $m(x)$, find the original dataword $\\textbf{m}$"
   ]
  },
  {
   "cell_type": "code",
   "execution_count": 118,
   "metadata": {},
   "outputs": [],
   "source": [
    "## Code your solution here."
   ]
  },
  {
   "cell_type": "markdown",
   "metadata": {},
   "source": [
    "## Bonus\n",
    "Come up with a systematic encoding scheme for Reed-Solomon codes. Express your encoding scheme as a matrix or as a generator polynomial."
   ]
  },
  {
   "cell_type": "markdown",
   "metadata": {},
   "source": [
    "(your answer here)"
   ]
  },
  {
   "cell_type": "markdown",
   "metadata": {},
   "source": [
    "Explain how to use a Discrete Fourier Transform to decode Reed-Solomon codes. "
   ]
  },
  {
   "cell_type": "markdown",
   "metadata": {},
   "source": [
    "(your answer here)"
   ]
  },
  {
   "cell_type": "markdown",
   "metadata": {},
   "source": [
    "## References\n",
    "\n",
    "1. Guruswami, Rudra, & Sudan. *Essential Coding Theory*. Online draft, 2023.\n",
    "\n",
    "2. Documentation for the `galois` package: https://mhostetter.github.io/galois/latest/basic-usage/array-arithmetic/#linear-algebra"
   ]
  }
 ],
 "metadata": {
  "kernelspec": {
   "display_name": "base",
   "language": "python",
   "name": "python3"
  },
  "language_info": {
   "codemirror_mode": {
    "name": "ipython",
    "version": 3
   },
   "file_extension": ".py",
   "mimetype": "text/x-python",
   "name": "python",
   "nbconvert_exporter": "python",
   "pygments_lexer": "ipython3",
   "version": "3.12.7"
  }
 },
 "nbformat": 4,
 "nbformat_minor": 4
}
